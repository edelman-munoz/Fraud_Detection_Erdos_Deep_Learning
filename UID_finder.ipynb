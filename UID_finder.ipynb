{
  "cells": [
    {
      "cell_type": "code",
      "execution_count": null,
      "id": "72909c57",
      "metadata": {
        "id": "72909c57"
      },
      "outputs": [],
      "source": [
        "import pandas as pd\n",
        "import numpy as np"
      ]
    },
    {
      "cell_type": "code",
      "execution_count": null,
      "id": "fac7f48e",
      "metadata": {
        "id": "fac7f48e"
      },
      "outputs": [],
      "source": [
        "#Creating UIDs from card data\n",
        "\n",
        "#here we read in data\n",
        "kaggle_set = pd.read_csv('/Users/sara/Desktop/train_transaction.csv')"
      ]
    },
    {
      "cell_type": "code",
      "execution_count": null,
      "id": "5fa472d8",
      "metadata": {
        "id": "5fa472d8",
        "outputId": "70a42c5d-2b5d-4f0b-dae3-c5d455ef276c"
      },
      "outputs": [
        {
          "name": "stdout",
          "output_type": "stream",
          "text": [
            "Number of unique identifiers: 43071\n"
          ]
        }
      ],
      "source": [
        "#pull out the categorical card identifiers\n",
        "#right now I'm only using card1, and addr1, but Adrian also reccomends using start date of card\n",
        "id_df = kaggle_set[['card1', 'addr1']].copy()\n",
        "id_df = id_df.drop_duplicates().reset_index()\n",
        "\n",
        "#count the number of unique rows\n",
        "print(\"Number of unique identifiers:\", id_df.shape[0])\n"
      ]
    },
    {
      "cell_type": "code",
      "execution_count": null,
      "id": "e19e9b3c",
      "metadata": {
        "id": "e19e9b3c"
      },
      "outputs": [],
      "source": []
    }
  ],
  "metadata": {
    "kernelspec": {
      "display_name": "Python 3",
      "language": "python",
      "name": "python3"
    },
    "language_info": {
      "codemirror_mode": {
        "name": "ipython",
        "version": 3
      },
      "file_extension": ".py",
      "mimetype": "text/x-python",
      "name": "python",
      "nbconvert_exporter": "python",
      "pygments_lexer": "ipython3",
      "version": "3.11.3"
    },
    "colab": {
      "provenance": []
    }
  },
  "nbformat": 4,
  "nbformat_minor": 5
}