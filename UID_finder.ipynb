{
  "cells": [
    {
      "cell_type": "code",
      "execution_count": null,
      "id": "72909c57",
      "metadata": {
        "id": "72909c57"
      },
      "outputs": [],
      "source": [
        "import pandas as pd\n",
        "import numpy as np"
      ]
    },
    {
      "cell_type": "code",
      "execution_count": null,
      "id": "5fa472d8",
      "metadata": {
        "id": "5fa472d8",
        "outputId": "70a42c5d-2b5d-4f0b-dae3-c5d455ef276c"
      },
      "outputs": [
        {
          "name": "stdout",
          "output_type": "stream",
          "text": [
            "Number of unique identifiers: 43071\n"
          ]
        }
      ],
      "source": [
        "#define a function to add UID and group aggregated features to every column\n",
        "\n",
        "def add_UID(df, id_cols):\n",
        "  #inputs are the df that you want to add the UID to, and the columns that contribute to determining the UID\n",
        "\n",
        "  id_df = df[id_cols].copy()\n",
        "  id_df = id_df.drop_duplicates().reset_index()\n",
        "  id_df['UID'] = range(1,id_df.shape[0]+1)\n",
        "\n",
        "  #you can use this to print the number of unique rows. It's off rn.\n",
        "  #print(\"Number of unique users:\", id_df.shape[0])\n",
        "\n",
        "  #add the UIDs back into the original df\n",
        "  df = df.merge(id_df, on=id_cols, how='left')\n",
        "  return df"
      ]
    },
    {
      "cell_type": "code",
      "execution_count": null,
      "id": "e19e9b3c",
      "metadata": {
        "id": "e19e9b3c"
      },
      "outputs": [],
      "source": [
        "#example call for our dataset\n",
        "\n",
        "kaggle_set = pd.read_csv(\n",
        "    #filepath for kaggle dataset\n",
        "    )\n",
        "\n",
        "#I'm only using card 1 and addr1 for now but adrian also reccomends using the card start date\n",
        "add_UID(kaggle_set, ['card1', 'addr1'])"
      ]
    },
    {
      "cell_type": "code",
      "source": [
        "#compute group aggregated features\n",
        "\n",
        "def group_agg(df, UID_column):\n",
        "\n",
        "  numerical_df = df.select_dtypes(include=np.number).columns\n",
        "  #categorical features off because I don't know how to deal with them for now\n",
        "  #categorical_features = df.select_dtypes(exclude=np.number).columns\n",
        "  grouped_df = numerical_df.groupby(UID_column).mean()\n",
        "  agg_features_df = df.merge(grouped_df, on=UID_column, how='left', suffixes=('', '_mean')\n",
        "\n",
        "  return grouped_df\n",
        "\n"
      ],
      "metadata": {
        "id": "yuVG5uvIRlRy"
      },
      "id": "yuVG5uvIRlRy",
      "execution_count": null,
      "outputs": []
    },
    {
      "cell_type": "code",
      "source": [
        "# example call:\n",
        "\n",
        "group_agg(kaggle_set, 'UID')"
      ],
      "metadata": {
        "id": "RnjqqQ54S3ye"
      },
      "id": "RnjqqQ54S3ye",
      "execution_count": null,
      "outputs": []
    }
  ],
  "metadata": {
    "kernelspec": {
      "display_name": "Python 3",
      "language": "python",
      "name": "python3"
    },
    "language_info": {
      "codemirror_mode": {
        "name": "ipython",
        "version": 3
      },
      "file_extension": ".py",
      "mimetype": "text/x-python",
      "name": "python",
      "nbconvert_exporter": "python",
      "pygments_lexer": "ipython3",
      "version": "3.11.3"
    },
    "colab": {
      "provenance": []
    }
  },
  "nbformat": 4,
  "nbformat_minor": 5
}