{
 "cells": [
  {
   "cell_type": "code",
   "execution_count": null,
   "id": "e2a8331c",
   "metadata": {},
   "outputs": [],
   "source": [
    "# AW 7/17/2025\n",
    "import numpy as np\n",
    "import pandas as pd\n",
    "import matplotlib.pyplot as plt\n",
    "import time as time\n",
    "\n",
    "from collections import Counter,defaultdict\n",
    "from warnings import simplefilter\n",
    "\n",
    "# suppressing some warnings that, upon close inspection, are indeed useless\n",
    "simplefilter(action=\"ignore\", category=pd.errors.PerformanceWarning)\n",
    "\n",
    "def read_in_data(file):\n",
    "    df = pd.read_csv(\".//ieee-fraud-detection//\"+file+\"_transaction.csv\")\n",
    "    # M4 column has weird values [M0,M1,M2],replacing with [0,1,2]\n",
    "    # The remaining M1-M9 columns have T/F values replacing with 1/0\n",
    "    # define a dictionary as a mapping function\n",
    "    replace_mapping_Ms = {'F':0,'T':1,'M0':0,'M1':1,'M2':2}\n",
    "    # replace each column with replaced values\n",
    "    for i in range(9):\n",
    "        df['M'+str(i+1)] = df['M'+str(i+1)].map(replace_mapping_Ms)\n",
    "    print('Relabeling columns M1-M9')\n",
    "    replace_mapping_ProdCD = {'W':1,'C':2,'R':3,'H':4,'S':5}\n",
    "    df['ProductCD'] = df['ProductCD'].map(replace_mapping_ProdCD)\n",
    "    replace_mapping_card4 = {'visa': 1, 'mastercard': 2, 'american express': 3, 'discover': 4}\n",
    "    df['card4'] = df['card4'].map(replace_mapping_card4)\n",
    "    replace_mapping_card6 = {'debit': 1, 'credit': 2, 'debit or credit': 3, 'charge card': 4}\n",
    "    df['card6'] = df['card6'].map(replace_mapping_card6)\n",
    "    print('Relabeling columns ProductCD,card4,card6')\n",
    "    drop_list = []\n",
    "    for i in range(15):\n",
    "        df['D'+str(i+1)+'new'] = df['TransactionDT']//(60*60*24)-df['D'+str(i+1)]+2000\n",
    "        drop_list.append('D'+str(i+1))\n",
    "    print('Making new columns','new,'.join(drop_list)+'new')\n",
    "    print('Dropping columns',','.join(drop_list))\n",
    "    print()\n",
    "    return df.drop(drop_list,axis=1)\n",
    "\n",
    "def prep_data(df):\n",
    "    print(f'Original memory footprint is {df.memory_usage(deep=True).sum()/2**20:.2f} MB')\n",
    "    print('Typecasting to appropriate data types...')\n",
    "    null_swap_value = -128 # arbitrary negnative number that is an int8\n",
    "    for col in df:\n",
    "        if df[col].dtype!=object and col!='TransactionAmt':\n",
    "            df[col]=df[col].fillna(null_swap_value)\n",
    "            if df[col].max()<128: df[col] = df[col].astype('int8')\n",
    "            elif df[col].max()<32768: df[col] = df[col].astype('int16')\n",
    "            else: df[col] = df[col].astype('int32')\n",
    "        if col=='TransactionAmt':\n",
    "            df[col] = df[col].astype('float32')\n",
    "    print(f'Modified memory footprint is {df.memory_usage(deep=True).sum()/2**20:.2f} MB')\n",
    "    print()\n",
    "    print('Remaining non-int columns are the following:')\n",
    "    for col in df.columns:\n",
    "        if df[col].dtype!='int8' and df[col].dtype!='int16' and df[col].dtype!='int32':\n",
    "            print('\\t',col,df[col].dtype)\n",
    "    print()\n",
    "    return df\n",
    "\n",
    "# for df only, not for use on df2 due to \"isFraud\" not being available\n",
    "def count_ambiguous_UID(df):\n",
    "    count_dict = defaultdict(list)\n",
    "    c1 = Counter(df['UID'])\n",
    "    c2 = Counter(df['UID'][df['isFraud']==1])\n",
    "    for k,v in c2.items():\n",
    "        count_dict[k].append(v)\n",
    "    for k,v in c1.items():\n",
    "        if k in count_dict:\n",
    "            count_dict[k].append(v)\n",
    "        else:\n",
    "            count_dict[k]=[0,v]\n",
    "    foo = pd.DataFrame(c1.most_common())\n",
    "    foo = foo.rename(columns={0:'UID',1:'count'})\n",
    "    foo['fraud_count'] = foo['UID'].map(c2)\n",
    "    foo['fraud_frac'] = foo['fraud_count']/foo['count']\n",
    "    # print('Total Groups:',len(foo['fraud_frac']))\n",
    "    ambigious_count = ((foo['fraud_frac']>0)*(foo['fraud_frac']<1)).sum()\n",
    "    print(f'Ambiguous Cases: {ambigious_count}')\n",
    "    print(f'Ambiguous Fraction: {ambigious_count/len(df):1.3%}')\n",
    "    return foo\n",
    "\n",
    "def add_UID(df):\n",
    "    df['UID'] =  df['card1'].astype(str)+'_'\\\n",
    "                +df['addr1'].astype(str)+'_'\\\n",
    "                +df['D1new'].astype(str)+'_'\\\n",
    "                +df['P_emaildomain'].astype(str)+'_'\\\n",
    "                +df['C1'].astype(str)+'_'\\\n",
    "                # +df['C5'].astype(str)+'_'\\\n",
    "                # +df['C13'].astype(str)+'_'\\\n",
    "                # +df['V303'].astype(str)+'_'\\\n",
    "                # +df['V125'].astype(str) \n",
    "    return df"
   ]
  },
  {
   "cell_type": "code",
   "execution_count": 722,
   "id": "4d1abd57",
   "metadata": {},
   "outputs": [
    {
     "name": "stdout",
     "output_type": "stream",
     "text": [
      "Processing in train and test sets...\n",
      "Relabeling columns M1-M9\n",
      "Relabeling columns ProductCD,card4,card6\n",
      "Making new columns D1new,D2new,D3new,D4new,D5new,D6new,D7new,D8new,D9new,D10new,D11new,D12new,D13new,D14new,D15new\n",
      "Dropping columns D1,D2,D3,D4,D5,D6,D7,D8,D9,D10,D11,D12,D13,D14,D15\n",
      "\n",
      "Original memory footprint is 1823.09 MB\n",
      "Typecasting to appropriate data types...\n",
      "Modified memory footprint is 439.91 MB\n",
      "\n",
      "Remaining non-int columns are the following:\n",
      "\t TransactionAmt float32\n",
      "\t P_emaildomain object\n",
      "\t R_emaildomain object\n",
      "\n",
      "Relabeling columns M1-M9\n",
      "Relabeling columns ProductCD,card4,card6\n",
      "Making new columns D1new,D2new,D3new,D4new,D5new,D6new,D7new,D8new,D9new,D10new,D11new,D12new,D13new,D14new,D15new\n",
      "Dropping columns D1,D2,D3,D4,D5,D6,D7,D8,D9,D10,D11,D12,D13,D14,D15\n",
      "\n",
      "Original memory footprint is 1561.36 MB\n",
      "Typecasting to appropriate data types...\n",
      "Modified memory footprint is 375.06 MB\n",
      "\n",
      "Remaining non-int columns are the following:\n",
      "\t TransactionAmt float32\n",
      "\t P_emaildomain object\n",
      "\t R_emaildomain object\n",
      "\n"
     ]
    }
   ],
   "source": [
    "print(\"Processing in train and test sets...\")\n",
    "df = read_in_data(\"train\")\n",
    "df = prep_data(df)\n",
    "df2 = read_in_data(\"test\")\n",
    "df2 = prep_data(df2)"
   ]
  },
  {
   "cell_type": "code",
   "execution_count": null,
   "id": "481c8eaf",
   "metadata": {},
   "outputs": [
    {
     "name": "stdout",
     "output_type": "stream",
     "text": [
      "Adding UID to training set...\n",
      "df UID count: 325407\n",
      "fraction of total transactions: 55.1%\n",
      "Ambiguous Cases: 984\n",
      "Ambiguous Fraction: 0.167%\n",
      "\n",
      "Adding UID to test set...\n",
      "df2 UID count: 275946\n",
      "fraction of total transactions: 54.5%\n",
      "\n",
      "total UID count: 583139\n",
      "overlapping UID count: 18214\n",
      "overlapping UID fraction: 3.1%\n"
     ]
    }
   ],
   "source": [
    "print('Adding UID to training set...')\n",
    "df = add_UID(df)\n",
    "c1 = Counter(df['UID'])\n",
    "print(f'df UID count: {len(c1)}')\n",
    "print(f'fraction of total transactions: {len(c1)/len(df):1.1%}')\n",
    "bar = count_ambiguous_UID(df) #only valid for the training set, which is labeled\n",
    "print('')\n",
    "\n",
    "print('Adding UID to test set...')\n",
    "df2 = add_UID(df2)\n",
    "c2 = Counter(df2['UID'])\n",
    "print(f'df2 UID count: {len(c2)}')\n",
    "print(f'fraction of total transactions: {len(c2)/len(df2):1.1%}')\n",
    "print('')\n",
    "\n",
    "print(f'total UID count: {len(c1+c2)}')\n",
    "print(f'overlapping UID count: {len(c1)+len(c2)-len(c1+c2)}')\n",
    "print(f'overlapping UID fraction: {(len(c1)+len(c2))/len(c1+c2)-1:1.1%}')"
   ]
  },
  {
   "cell_type": "code",
   "execution_count": 725,
   "id": "b0a91eef",
   "metadata": {},
   "outputs": [
    {
     "data": {
      "text/plain": [
       "Text(0.5, 1.0, 'Ambigious Cases Not Separated by UID')"
      ]
     },
     "execution_count": 725,
     "metadata": {},
     "output_type": "execute_result"
    },
    {
     "data": {
      "image/png": "[encoded data removed]",
      "text/plain": [
       "<Figure size 640x480 with 1 Axes>"
      ]
     },
     "metadata": {},
     "output_type": "display_data"
    }
   ],
   "source": [
    "plt.hist(bar['fraud_frac'][(bar['fraud_frac']>0)*(bar['fraud_frac']<1)],bins=10)\n",
    "plt.ylabel('Count')\n",
    "plt.xlabel('Fraction of Fraud')\n",
    "plt.title('Ambigious Cases Not Separated by UID')"
   ]
  }
 ],
 "metadata": {
  "kernelspec": {
   "display_name": "Python 3",
   "language": "python",
   "name": "python3"
  },
  "language_info": {
   "codemirror_mode": {
    "name": "ipython",
    "version": 3
   },
   "file_extension": ".py",
   "mimetype": "text/x-python",
   "name": "python",
   "nbconvert_exporter": "python",
   "pygments_lexer": "ipython3",
   "version": "3.10.11"
  }
 },
 "nbformat": 4,
 "nbformat_minor": 5
}
